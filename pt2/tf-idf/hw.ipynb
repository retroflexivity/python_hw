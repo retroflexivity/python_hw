{
  "cells": [
    {
      "cell_type": "markdown",
      "metadata": {},
      "source": [
        "# homework 2: tf-idf\n",
        "by arkady shaldov, group 213"
      ]
    },
    {
      "cell_type": "markdown",
      "metadata": {},
      "source": [
        "### task 1. word2vec"
      ]
    },
    {
      "cell_type": "markdown",
      "metadata": {},
      "source": [
        "imports, mainly for preprocessing"
      ]
    },
    {
      "cell_type": "code",
      "execution_count": null,
      "metadata": {
        "jupyter": {
          "outputs_hidden": false,
          "source_hidden": false
        },
        "nteract": {
          "transient": {
            "deleting": false
          }
        },
        "vscode": {
          "languageId": "python"
        }
      },
      "outputs": [],
      "source": [
        "from pymystem3 import Mystem\n",
        "from os import listdir\n",
        "from nltk import sent_tokenize\n",
        "from nltk.corpus import stopwords\n",
        "from re import finditer\n",
        "m = Mystem()\n",
        "sw = stopwords.words('russian')"
      ]
    },
    {
      "cell_type": "markdown",
      "metadata": {},
      "source": [
        "#### pre-processing"
      ]
    },
    {
      "cell_type": "markdown",
      "metadata": {},
      "source": [
        "lemmatizer, punctuation and stopword filter"
      ]
    },
    {
      "cell_type": "code",
      "execution_count": 2,
      "metadata": {
        "jupyter": {
          "outputs_hidden": false,
          "source_hidden": false
        },
        "nteract": {
          "transient": {
            "deleting": false
          }
        },
        "vscode": {
          "languageId": "python"
        }
      },
      "outputs": [],
      "source": [
        "def ltz(text):\n",
        "    return ' '.join((word for word in m.lemmatize(text) if any(letter.isalnum() for letter in word) and word not in sw)) + '\\n'"
      ]
    },
    {
      "cell_type": "markdown",
      "metadata": {},
      "source": [
        "mini-function that removes initial metadata (the book itself always starts with \u0014)"
      ]
    },
    {
      "cell_type": "code",
      "execution_count": null,
      "metadata": {
        "jupyter": {
          "outputs_hidden": false,
          "source_hidden": false
        },
        "nteract": {
          "transient": {
            "deleting": false
          }
        },
        "vscode": {
          "languageId": "python"
        }
      },
      "outputs": [],
      "source": [
        "def crop_heading(text):\n",
        "    fi = finditer('\u0014', text)\n",
        "    next(fi)\n",
        "    return text[next(fi).start():]"
      ]
    },
    {
      "cell_type": "markdown",
      "metadata": {},
      "source": [
        "splitting every book in sentences, lemmatizing, and writing into the common file line by line"
      ]
    },
    {
      "cell_type": "code",
      "execution_count": null,
      "metadata": {
        "jupyter": {
          "outputs_hidden": false,
          "source_hidden": false
        },
        "nteract": {
          "transient": {
            "deleting": false
          }
        },
        "vscode": {
          "languageId": "python"
        }
      },
      "outputs": [],
      "source": [
        "with open('lemmatized.txt', 'w', encoding='utf-8') as lemmatized:\n",
        "    for filename in listdir('books'):\n",
        "        with open('books/' + filename, encoding='koi8-r') as book:\n",
        "            text = crop_heading(book.read())\n",
        "            for row in [sent_tokenize(row) for row in text.split('\\n')]:\n",
        "                for sent in row:\n",
        "                    lemmatized.write(ltz(sent))"
      ]
    },
    {
      "cell_type": "markdown",
      "metadata": {},
      "source": [
        "#### the model"
      ]
    },
    {
      "cell_type": "markdown",
      "metadata": {},
      "source": [
        "initializing gensim"
      ]
    },
    {
      "cell_type": "code",
      "execution_count": 3,
      "metadata": {
        "jupyter": {
          "outputs_hidden": false,
          "source_hidden": false
        },
        "nteract": {
          "transient": {
            "deleting": false
          }
        },
        "vscode": {
          "languageId": "python"
        }
      },
      "outputs": [],
      "source": [
        "from gensim.models.word2vec import LineSentence\n",
        "from gensim.models import Word2Vec\n",
        "from logging import basicConfig, INFO"
      ]
    },
    {
      "cell_type": "code",
      "execution_count": 4,
      "metadata": {
        "jupyter": {
          "outputs_hidden": false,
          "source_hidden": false
        },
        "nteract": {
          "transient": {
            "deleting": false
          }
        },
        "vscode": {
          "languageId": "python"
        }
      },
      "outputs": [],
      "source": [
        "basicConfig(format='%(asctime)s : %(levelname)s : %(message)s', level=INFO)"
      ]
    },
    {
      "cell_type": "markdown",
      "metadata": {},
      "source": [
        "reading the data, training and saving the model"
      ]
    },
    {
      "cell_type": "code",
      "execution_count": 5,
      "metadata": {
        "jupyter": {
          "outputs_hidden": false,
          "source_hidden": false
        },
        "nteract": {
          "transient": {
            "deleting": false
          }
        },
        "vscode": {
          "languageId": "python"
        }
      },
      "outputs": [],
      "source": [
        "data = LineSentence('lemmatized.txt')"
      ]
    },
    {
      "cell_type": "code",
      "execution_count": 6,
      "metadata": {
        "jupyter": {
          "outputs_hidden": false,
          "source_hidden": false
        },
        "nteract": {
          "transient": {
            "deleting": false
          }
        },
        "vscode": {
          "languageId": "python"
        }
      },
      "outputs": [
        {
          "name": "stderr",
          "output_type": "stream",
          "text": [
            "2022-11-15 19:14:59,174 : INFO : collecting all words and their counts\n",
            "2022-11-15 19:14:59,182 : INFO : PROGRESS: at sentence #0, processed 0 words, keeping 0 word types\n",
            "2022-11-15 19:14:59,231 : INFO : PROGRESS: at sentence #10000, processed 60024 words, keeping 13969 word types\n",
            "2022-11-15 19:14:59,271 : INFO : PROGRESS: at sentence #20000, processed 120149 words, keeping 20399 word types\n",
            "2022-11-15 19:14:59,309 : INFO : PROGRESS: at sentence #30000, processed 182700 words, keeping 24654 word types\n",
            "2022-11-15 19:14:59,344 : INFO : PROGRESS: at sentence #40000, processed 241837 words, keeping 26925 word types\n",
            "2022-11-15 19:14:59,375 : INFO : PROGRESS: at sentence #50000, processed 295717 words, keeping 29706 word types\n",
            "2022-11-15 19:14:59,412 : INFO : PROGRESS: at sentence #60000, processed 355857 words, keeping 31979 word types\n",
            "2022-11-15 19:14:59,459 : INFO : PROGRESS: at sentence #70000, processed 417512 words, keeping 34166 word types\n",
            "2022-11-15 19:14:59,512 : INFO : PROGRESS: at sentence #80000, processed 480745 words, keeping 36149 word types\n",
            "2022-11-15 19:14:59,539 : INFO : collected 37534 word types from a corpus of 526031 raw words and 87175 sentences\n",
            "2022-11-15 19:14:59,540 : INFO : Creating a fresh vocabulary\n",
            "2022-11-15 19:14:59,591 : INFO : Word2Vec lifecycle event {'msg': 'effective_min_count=5 retains 13273 unique words (35.36% of original 37534, drops 24261)', 'datetime': '2022-11-15T19:14:59.591660', 'gensim': '4.2.0', 'python': '3.9.2 (default, Feb 28 2021, 17:03:44) \\n[GCC 10.2.1 20210110]', 'platform': 'Linux-5.10.147-20147-gbf231eecc4e8-x86_64-with-glibc2.31', 'event': 'prepare_vocab'}\n",
            "2022-11-15 19:14:59,592 : INFO : Word2Vec lifecycle event {'msg': 'effective_min_count=5 leaves 483939 word corpus (92.00% of original 526031, drops 42092)', 'datetime': '2022-11-15T19:14:59.592495', 'gensim': '4.2.0', 'python': '3.9.2 (default, Feb 28 2021, 17:03:44) \\n[GCC 10.2.1 20210110]', 'platform': 'Linux-5.10.147-20147-gbf231eecc4e8-x86_64-with-glibc2.31', 'event': 'prepare_vocab'}\n",
            "2022-11-15 19:14:59,647 : INFO : deleting the raw counts dictionary of 37534 items\n",
            "2022-11-15 19:14:59,649 : INFO : sample=0.001 downsamples 18 most-common words\n",
            "2022-11-15 19:14:59,649 : INFO : Word2Vec lifecycle event {'msg': 'downsampling leaves estimated 471034.35515573603 word corpus (97.3%% of prior 483939)', 'datetime': '2022-11-15T19:14:59.649529', 'gensim': '4.2.0', 'python': '3.9.2 (default, Feb 28 2021, 17:03:44) \\n[GCC 10.2.1 20210110]', 'platform': 'Linux-5.10.147-20147-gbf231eecc4e8-x86_64-with-glibc2.31', 'event': 'prepare_vocab'}\n",
            "2022-11-15 19:14:59,744 : INFO : estimated required memory for 13273 words and 300 dimensions: 38491700 bytes\n",
            "2022-11-15 19:14:59,745 : INFO : resetting layer weights\n",
            "2022-11-15 19:14:59,777 : INFO : Word2Vec lifecycle event {'update': False, 'trim_rule': 'None', 'datetime': '2022-11-15T19:14:59.777563', 'gensim': '4.2.0', 'python': '3.9.2 (default, Feb 28 2021, 17:03:44) \\n[GCC 10.2.1 20210110]', 'platform': 'Linux-5.10.147-20147-gbf231eecc4e8-x86_64-with-glibc2.31', 'event': 'build_vocab'}\n",
            "2022-11-15 19:14:59,778 : INFO : Word2Vec lifecycle event {'msg': 'training model with 3 workers on 13273 vocabulary and 300 features, using sg=0 hs=0 sample=0.001 negative=5 window=5 shrink_windows=True', 'datetime': '2022-11-15T19:14:59.778568', 'gensim': '4.2.0', 'python': '3.9.2 (default, Feb 28 2021, 17:03:44) \\n[GCC 10.2.1 20210110]', 'platform': 'Linux-5.10.147-20147-gbf231eecc4e8-x86_64-with-glibc2.31', 'event': 'train'}\n",
            "2022-11-15 19:15:00,414 : INFO : EPOCH 0: training on 526031 raw words (470962 effective words) took 0.6s, 742806 effective words/s\n",
            "2022-11-15 19:15:01,107 : INFO : EPOCH 1: training on 526031 raw words (470922 effective words) took 0.7s, 681096 effective words/s\n",
            "2022-11-15 19:15:01,773 : INFO : EPOCH 2: training on 526031 raw words (470951 effective words) took 0.7s, 708992 effective words/s\n",
            "2022-11-15 19:15:02,423 : INFO : EPOCH 3: training on 526031 raw words (471160 effective words) took 0.6s, 726822 effective words/s\n",
            "2022-11-15 19:15:02,988 : INFO : EPOCH 4: training on 526031 raw words (471007 effective words) took 0.6s, 835654 effective words/s\n",
            "2022-11-15 19:15:03,627 : INFO : EPOCH 5: training on 526031 raw words (470951 effective words) took 0.6s, 739841 effective words/s\n",
            "2022-11-15 19:15:04,245 : INFO : EPOCH 6: training on 526031 raw words (471029 effective words) took 0.6s, 764592 effective words/s\n",
            "2022-11-15 19:15:04,852 : INFO : EPOCH 7: training on 526031 raw words (471261 effective words) took 0.6s, 778455 effective words/s\n",
            "2022-11-15 19:15:05,465 : INFO : EPOCH 8: training on 526031 raw words (470968 effective words) took 0.6s, 769615 effective words/s\n",
            "2022-11-15 19:15:06,009 : INFO : EPOCH 9: training on 526031 raw words (471133 effective words) took 0.5s, 868678 effective words/s\n",
            "2022-11-15 19:15:06,627 : INFO : EPOCH 10: training on 526031 raw words (470939 effective words) took 0.6s, 764611 effective words/s\n",
            "2022-11-15 19:15:07,255 : INFO : EPOCH 11: training on 526031 raw words (471066 effective words) took 0.6s, 752621 effective words/s\n",
            "2022-11-15 19:15:07,876 : INFO : EPOCH 12: training on 526031 raw words (471071 effective words) took 0.6s, 760196 effective words/s\n",
            "2022-11-15 19:15:08,493 : INFO : EPOCH 13: training on 526031 raw words (470995 effective words) took 0.6s, 765564 effective words/s\n",
            "2022-11-15 19:15:09,054 : INFO : EPOCH 14: training on 526031 raw words (471013 effective words) took 0.6s, 843497 effective words/s\n",
            "2022-11-15 19:15:09,683 : INFO : EPOCH 15: training on 526031 raw words (470933 effective words) took 0.6s, 750315 effective words/s\n",
            "2022-11-15 19:15:10,305 : INFO : EPOCH 16: training on 526031 raw words (471049 effective words) took 0.6s, 759338 effective words/s\n",
            "2022-11-15 19:15:10,909 : INFO : EPOCH 17: training on 526031 raw words (471074 effective words) took 0.6s, 781794 effective words/s\n",
            "2022-11-15 19:15:11,571 : INFO : EPOCH 18: training on 526031 raw words (471185 effective words) took 0.7s, 713766 effective words/s\n",
            "2022-11-15 19:15:12,127 : INFO : EPOCH 19: training on 526031 raw words (471200 effective words) took 0.6s, 850227 effective words/s\n",
            "2022-11-15 19:15:12,755 : INFO : EPOCH 20: training on 526031 raw words (470957 effective words) took 0.6s, 751654 effective words/s\n",
            "2022-11-15 19:15:13,384 : INFO : EPOCH 21: training on 526031 raw words (471084 effective words) took 0.6s, 751504 effective words/s\n",
            "2022-11-15 19:15:14,007 : INFO : EPOCH 22: training on 526031 raw words (471002 effective words) took 0.6s, 757955 effective words/s\n",
            "2022-11-15 19:15:14,654 : INFO : EPOCH 23: training on 526031 raw words (471086 effective words) took 0.6s, 730173 effective words/s\n",
            "2022-11-15 19:15:15,245 : INFO : EPOCH 24: training on 526031 raw words (471097 effective words) took 0.6s, 798930 effective words/s\n",
            "2022-11-15 19:15:15,871 : INFO : EPOCH 25: training on 526031 raw words (471007 effective words) took 0.6s, 755123 effective words/s\n",
            "2022-11-15 19:15:16,503 : INFO : EPOCH 26: training on 526031 raw words (471035 effective words) took 0.6s, 747560 effective words/s\n",
            "2022-11-15 19:15:17,168 : INFO : EPOCH 27: training on 526031 raw words (471062 effective words) took 0.7s, 710424 effective words/s\n",
            "2022-11-15 19:15:17,809 : INFO : EPOCH 28: training on 526031 raw words (471150 effective words) took 0.6s, 737346 effective words/s\n",
            "2022-11-15 19:15:18,369 : INFO : EPOCH 29: training on 526031 raw words (470912 effective words) took 0.6s, 843570 effective words/s\n",
            "2022-11-15 19:15:19,016 : INFO : EPOCH 30: training on 526031 raw words (471071 effective words) took 0.6s, 729869 effective words/s\n",
            "2022-11-15 19:15:19,658 : INFO : EPOCH 31: training on 526031 raw words (471100 effective words) took 0.6s, 735241 effective words/s\n",
            "2022-11-15 19:15:20,299 : INFO : EPOCH 32: training on 526031 raw words (471121 effective words) took 0.6s, 737384 effective words/s\n",
            "2022-11-15 19:15:20,951 : INFO : EPOCH 33: training on 526031 raw words (470995 effective words) took 0.6s, 727472 effective words/s\n",
            "2022-11-15 19:15:21,566 : INFO : EPOCH 34: training on 526031 raw words (470966 effective words) took 0.6s, 768519 effective words/s\n",
            "2022-11-15 19:15:22,238 : INFO : EPOCH 35: training on 526031 raw words (471043 effective words) took 0.7s, 702431 effective words/s\n",
            "2022-11-15 19:15:22,881 : INFO : EPOCH 36: training on 526031 raw words (470945 effective words) took 0.6s, 734415 effective words/s\n",
            "2022-11-15 19:15:23,523 : INFO : EPOCH 37: training on 526031 raw words (470964 effective words) took 0.6s, 736296 effective words/s\n",
            "2022-11-15 19:15:24,179 : INFO : EPOCH 38: training on 526031 raw words (471068 effective words) took 0.7s, 719135 effective words/s\n",
            "2022-11-15 19:15:24,753 : INFO : EPOCH 39: training on 526031 raw words (471053 effective words) took 0.6s, 824127 effective words/s\n",
            "2022-11-15 19:15:25,434 : INFO : EPOCH 40: training on 526031 raw words (470980 effective words) took 0.7s, 692907 effective words/s\n",
            "2022-11-15 19:15:26,150 : INFO : EPOCH 41: training on 526031 raw words (470988 effective words) took 0.7s, 660197 effective words/s\n",
            "2022-11-15 19:15:26,911 : INFO : EPOCH 42: training on 526031 raw words (471075 effective words) took 0.8s, 620906 effective words/s\n",
            "2022-11-15 19:15:27,606 : INFO : EPOCH 43: training on 526031 raw words (471036 effective words) took 0.7s, 680341 effective words/s\n",
            "2022-11-15 19:15:28,223 : INFO : EPOCH 44: training on 526031 raw words (471197 effective words) took 0.6s, 765191 effective words/s\n",
            "2022-11-15 19:15:28,907 : INFO : EPOCH 45: training on 526031 raw words (471046 effective words) took 0.7s, 690611 effective words/s\n",
            "2022-11-15 19:15:29,596 : INFO : EPOCH 46: training on 526031 raw words (470989 effective words) took 0.7s, 685321 effective words/s\n",
            "2022-11-15 19:15:30,342 : INFO : EPOCH 47: training on 526031 raw words (470936 effective words) took 0.7s, 632876 effective words/s\n",
            "2022-11-15 19:15:31,029 : INFO : EPOCH 48: training on 526031 raw words (471001 effective words) took 0.7s, 692017 effective words/s\n",
            "2022-11-15 19:15:31,650 : INFO : EPOCH 49: training on 526031 raw words (471112 effective words) took 0.6s, 761111 effective words/s\n",
            "2022-11-15 19:15:31,651 : INFO : Word2Vec lifecycle event {'msg': 'training on 26301550 raw words (23551947 effective words) took 31.9s, 738944 effective words/s', 'datetime': '2022-11-15T19:15:31.651568', 'gensim': '4.2.0', 'python': '3.9.2 (default, Feb 28 2021, 17:03:44) \\n[GCC 10.2.1 20210110]', 'platform': 'Linux-5.10.147-20147-gbf231eecc4e8-x86_64-with-glibc2.31', 'event': 'train'}\n",
            "2022-11-15 19:15:31,652 : INFO : Word2Vec lifecycle event {'params': 'Word2Vec<vocab=13273, vector_size=300, alpha=0.025>', 'datetime': '2022-11-15T19:15:31.652329', 'gensim': '4.2.0', 'python': '3.9.2 (default, Feb 28 2021, 17:03:44) \\n[GCC 10.2.1 20210110]', 'platform': 'Linux-5.10.147-20147-gbf231eecc4e8-x86_64-with-glibc2.31', 'event': 'created'}\n"
          ]
        }
      ],
      "source": [
        "model_fdn = Word2Vec(data, vector_size=300, window=5, min_count=5, epochs=50)"
      ]
    },
    {
      "cell_type": "code",
      "execution_count": 7,
      "metadata": {
        "jupyter": {
          "outputs_hidden": false,
          "source_hidden": false
        },
        "nteract": {
          "transient": {
            "deleting": false
          }
        },
        "vscode": {
          "languageId": "python"
        }
      },
      "outputs": [
        {
          "name": "stderr",
          "output_type": "stream",
          "text": [
            "2022-11-15 19:15:35,897 : INFO : storing 13273x300 projection weights into fdn.bin\n"
          ]
        }
      ],
      "source": [
        "# model_fdn.init_sims(replace=True)\n",
        "model_path = \"fdn.bin\"\n",
        "model_fdn.wv.save_word2vec_format(model_path, binary=True)"
      ]
    },
    {
      "cell_type": "markdown",
      "metadata": {},
      "source": [
        "13"
      ]
    },
    {
      "cell_type": "markdown",
      "metadata": {},
      "source": [
        "13 thousand words — pretty good considering the minimum entry count"
      ]
    },
    {
      "cell_type": "code",
      "execution_count": 8,
      "metadata": {
        "jupyter": {
          "outputs_hidden": false,
          "source_hidden": false
        },
        "nteract": {
          "transient": {
            "deleting": false
          }
        },
        "vscode": {
          "languageId": "python"
        }
      },
      "outputs": [
        {
          "data": {
            "text/plain": [
              "13273"
            ]
          },
          "execution_count": 8,
          "metadata": {},
          "output_type": "execute_result"
        }
      ],
      "source": [
        "len(model_fdn.wv)"
      ]
    },
    {
      "cell_type": "markdown",
      "metadata": {},
      "source": [
        "#### fruits of training"
      ]
    },
    {
      "cell_type": "markdown",
      "metadata": {},
      "source": [
        "a character's name is most similar to characters' names, unsurprisingly"
      ]
    },
    {
      "cell_type": "code",
      "execution_count": 9,
      "metadata": {
        "jupyter": {
          "outputs_hidden": false,
          "source_hidden": false
        },
        "nteract": {
          "transient": {
            "deleting": false
          }
        },
        "vscode": {
          "languageId": "python"
        }
      },
      "outputs": [
        {
          "data": {
            "text/plain": [
              "[('фандорина', 0.4034789800643921),\n",
              " ('вице-консул', 0.39114436507225037),\n",
              " ('мидори', 0.3584604859352112),\n",
              " ('консул', 0.3438311219215393),\n",
              " ('гэндзи', 0.3389842212200165),\n",
              " ('юми', 0.33604681491851807),\n",
              " ('петрович', 0.32428693771362305),\n",
              " ('асагава', 0.3218904733657837),\n",
              " ('эраст', 0.3141874372959137),\n",
              " ('ника', 0.31070953607559204)]"
            ]
          },
          "execution_count": 9,
          "metadata": {},
          "output_type": "execute_result"
        }
      ],
      "source": [
        "model_fdn.wv.most_similar('фандорин')"
      ]
    },
    {
      "cell_type": "markdown",
      "metadata": {},
      "source": [
        "an abstract concept is most similar to other abstract concepts and semantically connected stuff"
      ]
    },
    {
      "cell_type": "code",
      "execution_count": 10,
      "metadata": {
        "jupyter": {
          "outputs_hidden": false,
          "source_hidden": false
        },
        "nteract": {
          "transient": {
            "deleting": false
          }
        },
        "vscode": {
          "languageId": "python"
        }
      },
      "outputs": [
        {
          "data": {
            "text/plain": [
              "[('гдлевский', 0.31558549404144287),\n",
              " ('любовник', 0.3139645457267761),\n",
              " ('самоубийство', 0.30136266350746155),\n",
              " ('ненависть', 0.2989954948425293),\n",
              " ('любовь', 0.2944874167442322),\n",
              " ('пошлый', 0.28136980533599854),\n",
              " ('умирать', 0.27763769030570984),\n",
              " ('самолюбие', 0.26560327410697937),\n",
              " ('круть', 0.26460370421409607),\n",
              " ('калибан', 0.2590222954750061)]"
            ]
          },
          "execution_count": 10,
          "metadata": {},
          "output_type": "execute_result"
        }
      ],
      "source": [
        "model_fdn.wv.most_similar('смерть')"
      ]
    },
    {
      "cell_type": "markdown",
      "metadata": {},
      "source": [
        "antonymic adverbs return some other adverbs and some collocates"
      ]
    },
    {
      "cell_type": "code",
      "execution_count": 11,
      "metadata": {
        "jupyter": {
          "outputs_hidden": false,
          "source_hidden": false
        },
        "nteract": {
          "transient": {
            "deleting": false
          }
        },
        "vscode": {
          "languageId": "python"
        }
      },
      "outputs": [
        {
          "data": {
            "text/plain": [
              "[('негромко', 0.39126384258270264),\n",
              " ('волноваться', 0.3793197274208069),\n",
              " ('осторожно', 0.3756802976131439),\n",
              " ('зашагать', 0.3737246096134186),\n",
              " ('кран', 0.3733035922050476),\n",
              " ('лезвие', 0.36589908599853516),\n",
              " ('неловко', 0.3605267405509949),\n",
              " ('расплываться', 0.35300445556640625),\n",
              " ('разматывать', 0.3510517477989197),\n",
              " ('нескладно', 0.3492940068244934)]"
            ]
          },
          "execution_count": 11,
          "metadata": {},
          "output_type": "execute_result"
        }
      ],
      "source": [
        "model_fdn.wv.most_similar(['быстро', 'медленно'])"
      ]
    },
    {
      "cell_type": "markdown",
      "metadata": {},
      "source": [
        "the model did well with distinguishing a transitive verb from intransitive ones with close semantics"
      ]
    },
    {
      "cell_type": "code",
      "execution_count": 12,
      "metadata": {
        "jupyter": {
          "outputs_hidden": false,
          "source_hidden": false
        },
        "nteract": {
          "transient": {
            "deleting": false
          }
        },
        "vscode": {
          "languageId": "python"
        }
      },
      "outputs": [
        {
          "data": {
            "text/plain": [
              "'везти'"
            ]
          },
          "execution_count": 12,
          "metadata": {},
          "output_type": "execute_result"
        }
      ],
      "source": [
        "model_fdn.wv.doesnt_match(['идти', 'ехать', 'двигаться', 'везти'])"
      ]
    },
    {
      "cell_type": "markdown",
      "metadata": {},
      "source": [
        "# task 2. w2v pre-trained"
      ]
    },
    {
      "cell_type": "code",
      "execution_count": 13,
      "metadata": {
        "jupyter": {
          "outputs_hidden": false,
          "source_hidden": false
        },
        "nteract": {
          "transient": {
            "deleting": false
          }
        },
        "vscode": {
          "languageId": "python"
        }
      },
      "outputs": [],
      "source": [
        "from gensim.models import KeyedVectors\n",
        "from sklearn.decomposition import PCA\n",
        "import matplotlib.pyplot as plt\n",
        "%matplotlib inline\n",
        "pca = PCA(n_components=2)"
      ]
    },
    {
      "cell_type": "markdown",
      "metadata": {},
      "source": [
        "downloading, extracting, and initializing a model"
      ]
    },
    {
      "cell_type": "code",
      "execution_count": 14,
      "metadata": {
        "jupyter": {
          "outputs_hidden": false,
          "source_hidden": false
        },
        "nteract": {
          "transient": {
            "deleting": false
          }
        },
        "vscode": {
          "languageId": "python"
        }
      },
      "outputs": [
        {
          "data": {
            "text/plain": [
              "('pre_model.zip', <http.client.HTTPMessage at 0x7a8e5ef627c0>)"
            ]
          },
          "execution_count": 14,
          "metadata": {},
          "output_type": "execute_result"
        }
      ],
      "source": [
        "from urllib.request import urlretrieve\n",
        "url = \"http://vectors.nlpl.eu/repository/20/220.zip\"\n",
        "urlretrieve(url, \"pre_model.zip\")"
      ]
    },
    {
      "cell_type": "code",
      "execution_count": 15,
      "metadata": {
        "jupyter": {
          "outputs_hidden": false,
          "source_hidden": false
        },
        "nteract": {
          "transient": {
            "deleting": false
          }
        },
        "vscode": {
          "languageId": "python"
        }
      },
      "outputs": [],
      "source": [
        "import zipfile\n",
        "with zipfile.ZipFile('pre_model.zip', 'r') as zip_ref:\n",
        "    zip_ref.extractall('pre_model')"
      ]
    },
    {
      "cell_type": "code",
      "execution_count": 16,
      "metadata": {
        "jupyter": {
          "outputs_hidden": false,
          "source_hidden": false
        },
        "nteract": {
          "transient": {
            "deleting": false
          }
        },
        "vscode": {
          "languageId": "python"
        }
      },
      "outputs": [
        {
          "name": "stderr",
          "output_type": "stream",
          "text": [
            "2022-11-15 19:17:58,190 : INFO : loading projection weights from pre_model/model.bin\n",
            "2022-11-15 19:18:00,055 : INFO : KeyedVectors lifecycle event {'msg': 'loaded (249333, 300) matrix of type float32 from pre_model/model.bin', 'binary': True, 'encoding': 'utf8', 'datetime': '2022-11-15T19:18:00.055775', 'gensim': '4.2.0', 'python': '3.9.2 (default, Feb 28 2021, 17:03:44) \\n[GCC 10.2.1 20210110]', 'platform': 'Linux-5.10.147-20147-gbf231eecc4e8-x86_64-with-glibc2.31', 'event': 'load_word2vec_format'}\n"
          ]
        }
      ],
      "source": [
        "pre_model = KeyedVectors.load_word2vec_format('pre_model/model.bin', binary=True)"
      ]
    },
    {
      "cell_type": "markdown",
      "metadata": {},
      "source": [
        "counting semantic proportions has met a fiasco"
      ]
    },
    {
      "cell_type": "code",
      "execution_count": 17,
      "metadata": {
        "jupyter": {
          "outputs_hidden": false,
          "source_hidden": false
        },
        "nteract": {
          "transient": {
            "deleting": false
          }
        },
        "vscode": {
          "languageId": "python"
        }
      },
      "outputs": [
        {
          "data": {
            "text/plain": [
              "'небольшой_ADJ'"
            ]
          },
          "execution_count": 17,
          "metadata": {},
          "output_type": "execute_result"
        }
      ],
      "source": [
        "pre_model.most_similar(positive=['большой_ADJ', 'маленький_ADJ'], negative=['тяжелый_ADJ'], topn=1)[0][0]"
      ]
    },
    {
      "cell_type": "markdown",
      "metadata": {},
      "source": [
        "#### visualizing vectors for some (clustering) countries with PCA"
      ]
    },
    {
      "cell_type": "code",
      "execution_count": null,
      "metadata": {
        "jupyter": {
          "outputs_hidden": false,
          "source_hidden": false
        },
        "nteract": {
          "transient": {
            "deleting": false
          }
        },
        "vscode": {
          "languageId": "python"
        }
      },
      "outputs": [],
      "source": [
        "words = ('украина_PROPN', 'япония_PROPN', 'россия_PROPN', 'израиль_PROPN', 'белоруссия_PROPN', 'китай_PROPN', 'германия_PROPN', 'франция_PROPN', 'корея_PROPN', 'вьетнам_PROPN')\n",
        "coords = pca.fit_transform(pre_model[words])"
      ]
    },
    {
      "cell_type": "markdown",
      "metadata": {},
      "source": [
        "solid, isn't it (these are the countries with the best results though)"
      ]
    },
    {
      "cell_type": "code",
      "execution_count": 20,
      "metadata": {
        "jupyter": {
          "outputs_hidden": false,
          "source_hidden": false
        },
        "nteract": {
          "transient": {
            "deleting": false
          }
        },
        "vscode": {
          "languageId": "python"
        }
      },
      "outputs": [
        {
          "data": {
            "image/png": "[encoded data removed]",
            "text/plain": [
              "<Figure size 640x480 with 1 Axes>"
            ]
          },
          "metadata": {},
          "output_type": "display_data"
        }
      ],
      "source": [
        "plt.scatter(coords[:, 0], coords[:, 1])\n",
        "plt.title('countries')\n",
        "\n",
        "for i, word in enumerate(words):\n",
        "    plt.annotate(word, xy=(coords[i, 0], coords[i, 1]))\n",
        "plt.show()"
      ]
    },
    {
      "cell_type": "markdown",
      "metadata": {},
      "source": [
        "#### pseudo-synonymic substitution"
      ]
    },
    {
      "cell_type": "code",
      "execution_count": 21,
      "metadata": {
        "jupyter": {
          "outputs_hidden": false,
          "source_hidden": false
        },
        "nteract": {
          "transient": {
            "deleting": false
          }
        },
        "vscode": {
          "languageId": "python"
        }
      },
      "outputs": [],
      "source": [
        "def synonym(word):\n",
        "    for entry in pre_model.key_to_index:\n",
        "        if entry[:entry.find('_')] == word:\n",
        "            res = pre_model.most_similar(entry)[0][0]\n",
        "            return res[:res.find('_')]\n",
        "    return word"
      ]
    },
    {
      "cell_type": "code",
      "execution_count": 22,
      "metadata": {
        "jupyter": {
          "outputs_hidden": false,
          "source_hidden": false
        },
        "nteract": {
          "transient": {
            "deleting": false
          }
        },
        "vscode": {
          "languageId": "python"
        }
      },
      "outputs": [
        {
          "data": {
            "text/plain": [
              "'ладонь он взяться за горячий рюмка с крепка кофе и переставлять шашечный фигура.'"
            ]
          },
          "execution_count": 22,
          "metadata": {},
          "output_type": "execute_result"
        }
      ],
      "source": [
        "sent = 'Руками он брался за горячий стакан с крепким чаем и передвигал шахматные фигурки.'\n",
        "''.join((synonym(word) if not word in sw else word for word in m.lemmatize(sent)))[:-1]"
      ]
    },
    {
      "cell_type": "markdown",
      "metadata": {},
      "source": [
        "let it be like *Ладонью он взялся за горячую рюмку с крепким кофе и переставлял шашечную фигуру.* some words unchanged, probably morphology problems."
      ]
    },
    {
      "cell_type": "markdown",
      "metadata": {},
      "source": [
        "# task 3. wikipedia tf-idf"
      ]
    },
    {
      "cell_type": "markdown",
      "metadata": {},
      "source": [
        "gathering data here with the wikipedia api"
      ]
    },
    {
      "cell_type": "code",
      "execution_count": 23,
      "metadata": {
        "jupyter": {
          "outputs_hidden": false,
          "source_hidden": false
        },
        "nteract": {
          "transient": {
            "deleting": false
          }
        },
        "vscode": {
          "languageId": "python"
        }
      },
      "outputs": [],
      "source": [
        "import wikipediaapi\n",
        "wp = wikipediaapi.Wikipedia('ru')"
      ]
    },
    {
      "cell_type": "code",
      "execution_count": 25,
      "metadata": {
        "jupyter": {
          "outputs_hidden": false,
          "source_hidden": false
        },
        "nteract": {
          "transient": {
            "deleting": false
          }
        },
        "vscode": {
          "languageId": "python"
        }
      },
      "outputs": [],
      "source": [
        "from os import mkdir"
      ]
    },
    {
      "cell_type": "markdown",
      "metadata": {},
      "source": [
        "the articles shall belong here"
      ]
    },
    {
      "cell_type": "code",
      "execution_count": null,
      "metadata": {
        "vscode": {
          "languageId": "python"
        }
      },
      "outputs": [],
      "source": [
        "mkdir('wp')"
      ]
    },
    {
      "cell_type": "markdown",
      "metadata": {},
      "source": [
        "retrieving the alphabetically first 10 articles from a category and writing them into their own file"
      ]
    },
    {
      "cell_type": "code",
      "execution_count": 26,
      "metadata": {
        "jupyter": {
          "outputs_hidden": false,
          "source_hidden": false
        },
        "nteract": {
          "transient": {
            "deleting": false
          }
        },
        "vscode": {
          "languageId": "python"
        }
      },
      "outputs": [],
      "source": [
        "def get_articles(category, name):\n",
        "    i = 0\n",
        "    for article in category.categorymembers.values():\n",
        "        if i == art_num:\n",
        "            return\n",
        "        if article.ns != wikipediaapi.Namespace.CATEGORY and article.text:\n",
        "            with open(f'wp/{name}_{article.title}.txt', 'w', encoding='utf-8') as f:\n",
        "                f.write(ltz(article.text))\n",
        "                i += 1"
      ]
    },
    {
      "cell_type": "markdown",
      "metadata": {},
      "source": [
        "codenames, wikipedia names, and visualization colors for the categories"
      ]
    },
    {
      "cell_type": "code",
      "execution_count": 27,
      "metadata": {
        "jupyter": {
          "outputs_hidden": false,
          "source_hidden": false
        },
        "nteract": {
          "transient": {
            "deleting": false
          }
        },
        "vscode": {
          "languageId": "python"
        }
      },
      "outputs": [],
      "source": [
        "art_num = 10\n",
        "cats = (('cars', 'Автомобили', '#c70a0a'),\n",
        "        ('linguistics', 'Лингвистика', '#20ad03'),\n",
        "        ('literature', 'Литературоведение', '#a614a6'),\n",
        "        ('mathematics', 'Математика', '#1e2fc7'),\n",
        "        ('philosophy', 'Философия', '#0bb8b5'),\n",
        "        ('sociology', 'Социология', '#f2ea07'))"
      ]
    },
    {
      "cell_type": "code",
      "execution_count": null,
      "metadata": {
        "jupyter": {
          "outputs_hidden": false,
          "source_hidden": false
        },
        "nteract": {
          "transient": {
            "deleting": false
          }
        },
        "vscode": {
          "languageId": "python"
        }
      },
      "outputs": [],
      "source": [
        "for c in cats:\n",
        "    get_articles(wp.page(f'Category:{c[1]}'), c[0])"
      ]
    },
    {
      "cell_type": "markdown",
      "metadata": {},
      "source": [
        "reading the article files into a list and creating a tf-idf matrix"
      ]
    },
    {
      "cell_type": "code",
      "execution_count": 28,
      "metadata": {
        "jupyter": {
          "outputs_hidden": false,
          "source_hidden": false
        },
        "nteract": {
          "transient": {
            "deleting": false
          }
        },
        "vscode": {
          "languageId": "python"
        }
      },
      "outputs": [],
      "source": [
        "from os import listdir\n",
        "articles = [open(f'wp/{f}', encoding='utf-8').read() for f in sorted(listdir('wp'))]"
      ]
    },
    {
      "cell_type": "code",
      "execution_count": 29,
      "metadata": {
        "jupyter": {
          "outputs_hidden": false,
          "source_hidden": false
        },
        "nteract": {
          "transient": {
            "deleting": false
          }
        },
        "vscode": {
          "languageId": "python"
        }
      },
      "outputs": [],
      "source": [
        "from sklearn.feature_extraction.text import TfidfVectorizer\n",
        "tfidf = TfidfVectorizer(analyzer=\"word\", ngram_range=(1, 3), min_df=3)"
      ]
    },
    {
      "cell_type": "code",
      "execution_count": 30,
      "metadata": {
        "jupyter": {
          "outputs_hidden": false,
          "source_hidden": false
        },
        "nteract": {
          "transient": {
            "deleting": false
          }
        },
        "vscode": {
          "languageId": "python"
        }
      },
      "outputs": [],
      "source": [
        "matrix = tfidf.fit_transform(articles)"
      ]
    },
    {
      "cell_type": "code",
      "execution_count": 32,
      "metadata": {
        "jupyter": {
          "outputs_hidden": false,
          "source_hidden": false
        },
        "nteract": {
          "transient": {
            "deleting": false
          }
        },
        "vscode": {
          "languageId": "python"
        }
      },
      "outputs": [
        {
          "data": {
            "text/plain": [
              "2352"
            ]
          },
          "execution_count": 32,
          "metadata": {},
          "output_type": "execute_result"
        }
      ],
      "source": [
        "len(tfidf.get_feature_names_out())"
      ]
    },
    {
      "cell_type": "markdown",
      "metadata": {},
      "source": [
        "#### keyword extraction"
      ]
    },
    {
      "cell_type": "code",
      "execution_count": 33,
      "metadata": {
        "jupyter": {
          "outputs_hidden": false,
          "source_hidden": false
        },
        "nteract": {
          "transient": {
            "deleting": false
          }
        },
        "vscode": {
          "languageId": "python"
        }
      },
      "outputs": [],
      "source": [
        "from numpy import array, argsort"
      ]
    },
    {
      "cell_type": "markdown",
      "metadata": {},
      "source": [
        "getting top instances for a matrix row"
      ]
    },
    {
      "cell_type": "code",
      "execution_count": 34,
      "metadata": {
        "jupyter": {
          "outputs_hidden": false,
          "source_hidden": false
        },
        "nteract": {
          "transient": {
            "deleting": false
          }
        },
        "vscode": {
          "languageId": "python"
        }
      },
      "outputs": [],
      "source": [
        "def top_words(vector, feature_names, top_n=5):\n",
        "    sorted_nzs = argsort(vector.data)[:-(top_n+1):-1]\n",
        "    return feature_names[vector.indices[sorted_nzs]]"
      ]
    },
    {
      "cell_type": "markdown",
      "metadata": {},
      "source": [
        "keywords for every article here"
      ]
    },
    {
      "cell_type": "code",
      "execution_count": 36,
      "metadata": {
        "jupyter": {
          "outputs_hidden": false,
          "source_hidden": false
        },
        "nteract": {
          "transient": {
            "deleting": false
          }
        },
        "vscode": {
          "languageId": "python"
        }
      },
      "outputs": [
        {
          "name": "stdout",
          "output_type": "stream",
          "text": [
            "cars\n",
            "грузовик, автомобиль, популярный, chevrolet, 1950\n",
            "cars\n",
            "грузовик, замена, производство, год, производиться\n",
            "cars\n",
            "2014, январь, украина, лидер, акция\n",
            "cars\n",
            "автомобиль, машина, устройство, война, мочь\n",
            "cars\n",
            "автомобиль, около, окружающий среда, отправляться, окружающий\n",
            "cars\n",
            "работа, устойчивость, напряжение, автомобиль, возможность\n",
            "cars\n",
            "город, автомобиль, транспорт, зона, общественный\n",
            "cars\n",
            "автомобиль, городской, малый, низкий, год\n",
            "cars\n",
            "пассажирский, место, использоваться, автомобиль, мочь\n",
            "cars\n",
            "автомобиль, дизайн, производиться, появление, history\n",
            "linguistics\n",
            "язык, слово, около, грамматический, употребляться\n",
            "linguistics\n",
            "поэзия, ред, начало, следующий, русский\n",
            "linguistics\n",
            "выражение, лингвистика, связь, разрешение, местоимение\n",
            "linguistics\n",
            "язык, атлас, угроза, находиться, язык который\n",
            "linguistics\n",
            "язык, текст, известный, год, греческий\n",
            "linguistics\n",
            "вариант, единица, класс, языковой, уровень\n",
            "linguistics\n",
            "глагол, синтаксический, трансформация, речь, смысл\n",
            "linguistics\n",
            "лингвистика, язык, изучать, языкознание, языковой\n",
            "linguistics\n",
            "язык, название, диалект, языковой, русский\n",
            "linguistics\n",
            "язык, языкознание, лингвистика, общий, весь язык\n",
            "literature\n",
            "спасение, путь, мотив, религиозный, традиция\n",
            "literature\n",
            "персонаж, действующий, сюжет, актант, фольклористика\n",
            "literature\n",
            "получатель, схема, роль, объект, субъект\n",
            "literature\n",
            "действие, называться, лицо который, значимый, пропп\n",
            "literature\n",
            "роман, герой, персонаж, литература, век\n",
            "literature\n",
            "автор, произведение, критика, литературный, белый\n",
            "literature\n",
            "лицо, библиография, украина, 1999, литература\n",
            "literature\n",
            "герой, сюжет, прием, бог, машина\n",
            "literature\n",
            "введение, произведение, характер, вольтер, действие\n",
            "literature\n",
            "литературоведение, энциклопедия, литература, ред, литературный\n",
            "mathematics\n",
            "образец, число, количество, 120, сумма\n",
            "mathematics\n",
            "displaystyle, frac, функция, books, to\n",
            "mathematics\n",
            "устройство, схема, состояние, память, внутренний\n",
            "mathematics\n",
            "доказательство, математика, книга, математический, изменчивый\n",
            "mathematics\n",
            "компьютерный, ассоциация, наука, конференция, информатика\n",
            "mathematics\n",
            "математика, доказательство, математический, the, of\n",
            "mathematics\n",
            "математика, математический, теория, число, объект\n",
            "mathematics\n",
            "frac, displaystyle, неравенство, 10, 12\n",
            "mathematics\n",
            "критерий, гипотеза, распределение, статистический, проверка\n",
            "mathematics\n",
            "frac, displaystyle, уравнение, корень, пятый\n",
            "philosophy\n",
            "абсолютный, знание, интеллектуальный, гегель, познание\n",
            "philosophy\n",
            "майя, упанишад, который, который являться, являться\n",
            "philosophy\n",
            "характер, учение, категория, кризис, политический\n",
            "philosophy\n",
            "of, and, the, sociology, theory\n",
            "philosophy\n",
            "аргумент, бог, заявление, событие, то\n",
            "philosophy\n",
            "экзистенциализм, камю, поль, существование, бытие\n",
            "philosophy\n",
            "страница, указывать, день, ощущение, отношение\n",
            "philosophy\n",
            "мораль, различный, разному, фон, approach\n",
            "philosophy\n",
            "философ, философия, пифагор, философский, краткий\n",
            "philosophy\n",
            "философия, философский, философ, вопрос, который\n",
            "sociology\n",
            "социальный, свобода, свобода воля, 60, способность\n",
            "sociology\n",
            "агент, изменение, социальный, меньшинство, включаться\n",
            "sociology\n",
            "of, знание, social, исследование, англ\n",
            "sociology\n",
            "актор, субъект, индивид, социология, поступок\n",
            "sociology\n",
            "движение, альтернативный, современный, принцип, by\n",
            "sociology\n",
            "социология, социологический, ассоциация, президент, общество\n",
            "sociology\n",
            "центр, сша, институт, международный, аналитический\n",
            "sociology\n",
            "норма, социальный, общество, нормативный, поведение\n",
            "sociology\n",
            "пространство, производство, абстрактный, продукт, отношение\n",
            "sociology\n",
            "социальный, социология, общество, человек, культурный\n"
          ]
        }
      ],
      "source": [
        "for i, article in enumerate(articles):\n",
        "    print(cats[i // art_num][0])\n",
        "    print(', '.join(top_words(matrix[i, :], array(tfidf.get_feature_names_out()))))"
      ]
    },
    {
      "cell_type": "markdown",
      "metadata": {},
      "source": [
        "#### visualizing the articles"
      ]
    },
    {
      "cell_type": "code",
      "execution_count": 37,
      "metadata": {
        "jupyter": {
          "outputs_hidden": false,
          "source_hidden": false
        },
        "nteract": {
          "transient": {
            "deleting": false
          }
        },
        "vscode": {
          "languageId": "python"
        }
      },
      "outputs": [],
      "source": [
        "art_coords = pca.fit_transform(matrix.toarray())"
      ]
    },
    {
      "cell_type": "markdown",
      "metadata": {},
      "source": [
        "plots the articles for a single category, with its own color"
      ]
    },
    {
      "cell_type": "code",
      "execution_count": 38,
      "metadata": {
        "jupyter": {
          "outputs_hidden": false,
          "source_hidden": false
        },
        "nteract": {
          "transient": {
            "deleting": false
          }
        },
        "vscode": {
          "languageId": "python"
        }
      },
      "outputs": [],
      "source": [
        "def plot_cats(catnums, plot):\n",
        "    for i, cat in zip(catnums, (cats[num] for num in catnums)):\n",
        "        plot.scatter(art_coords[10 * i:10 * (i + 1), 0], art_coords[10 * i:10 * (i + 1), 1], color=cat[2])"
      ]
    },
    {
      "cell_type": "markdown",
      "metadata": {},
      "source": [
        "the results, with zooming in slowly. vehicles and linguistics being clear outsiders, math, philosophy and sociology articles are seemingly indistinguishable"
      ]
    },
    {
      "cell_type": "code",
      "execution_count": 39,
      "metadata": {
        "jupyter": {
          "outputs_hidden": false,
          "source_hidden": false
        },
        "nteract": {
          "transient": {
            "deleting": false
          }
        },
        "vscode": {
          "languageId": "python"
        }
      },
      "outputs": [
        {
          "data": {
            "image/png": "[encoded data removed]",
            "text/plain": [
              "<Figure size 640x480 with 4 Axes>"
            ]
          },
          "metadata": {},
          "output_type": "display_data"
        }
      ],
      "source": [
        "fig, axs = plt.subplots(2, 2)\n",
        "fig.suptitle('articles')\n",
        "\n",
        "plot_cats(range(6),    axs[0, 0])\n",
        "plot_cats(range(1, 6), axs[0, 1])\n",
        "plot_cats(range(2, 6), axs[1, 0])\n",
        "plot_cats(range(3, 6), axs[1, 1])\n",
        "\n",
        "plt.figlegend([cat[0] for cat in cats], loc='lower right')\n",
        "plt.show()"
      ]
    },
    {
      "cell_type": "markdown",
      "metadata": {},
      "source": [
        "# part 4. tf-idf extended"
      ]
    },
    {
      "cell_type": "markdown",
      "metadata": {},
      "source": [
        "`token_pattern` getting a regex that only accepts alphabetic characters (both cyrillic and latin)"
      ]
    },
    {
      "cell_type": "code",
      "execution_count": 40,
      "metadata": {
        "jupyter": {
          "outputs_hidden": false,
          "source_hidden": false
        },
        "nteract": {
          "transient": {
            "deleting": false
          }
        },
        "vscode": {
          "languageId": "python"
        }
      },
      "outputs": [],
      "source": [
        "alpha_tfidf = TfidfVectorizer(analyzer=\"word\", token_pattern=r'\\b[a-zA-Zа-яА-ЯёЁ]+\\b', ngram_range=(1, 3), min_df=3)\n",
        "alpha_matrix = alpha_tfidf.fit_transform(articles)"
      ]
    },
    {
      "cell_type": "markdown",
      "metadata": {},
      "source": [
        "28 number-words lost."
      ]
    },
    {
      "cell_type": "code",
      "execution_count": 42,
      "metadata": {
        "jupyter": {
          "outputs_hidden": false,
          "source_hidden": false
        },
        "nteract": {
          "transient": {
            "deleting": false
          }
        },
        "vscode": {
          "languageId": "python"
        }
      },
      "outputs": [
        {
          "data": {
            "text/plain": [
              "2324"
            ]
          },
          "execution_count": 42,
          "metadata": {},
          "output_type": "execute_result"
        }
      ],
      "source": [
        "len(alpha_tfidf.get_feature_names_out())"
      ]
    },
    {
      "cell_type": "markdown",
      "metadata": {},
      "source": [
        "getting a text-to-text cosine-similarity matrix"
      ]
    },
    {
      "cell_type": "code",
      "execution_count": 44,
      "metadata": {
        "jupyter": {
          "outputs_hidden": false,
          "source_hidden": false
        },
        "nteract": {
          "transient": {
            "deleting": false
          }
        },
        "vscode": {
          "languageId": "python"
        }
      },
      "outputs": [],
      "source": [
        "from sklearn.metrics.pairwise import cosine_similarity\n",
        "cos_sim = cosine_similarity(alpha_matrix)"
      ]
    },
    {
      "cell_type": "markdown",
      "metadata": {},
      "source": [
        "retrieving most similar articles except for the article itself"
      ]
    },
    {
      "cell_type": "code",
      "execution_count": 45,
      "metadata": {
        "jupyter": {
          "outputs_hidden": false,
          "source_hidden": false
        },
        "nteract": {
          "transient": {
            "deleting": false
          }
        },
        "vscode": {
          "languageId": "python"
        }
      },
      "outputs": [],
      "source": [
        "def cos_most_similar(num):\n",
        "    return [articles[i] for i in cos_sim[num].argsort()[-2:-5:-1]]"
      ]
    },
    {
      "cell_type": "markdown",
      "metadata": {},
      "source": [
        "the most similar text to the one about the Bedford TA is the one about the Bedford S-Type"
      ]
    },
    {
      "cell_type": "code",
      "execution_count": 46,
      "metadata": {
        "jupyter": {
          "outputs_hidden": false,
          "source_hidden": false
        },
        "nteract": {
          "transient": {
            "deleting": false
          }
        },
        "vscode": {
          "languageId": "python"
        }
      },
      "outputs": [
        {
          "data": {
            "text/plain": [
              "['Bedford S Type это бескапотный грузовик среднетоннажный категория который производиться компания Bedford Vehicles 1950 1959 год качество первый модель грузовик кабина грузовик Bedford QL история автомобиль впервые представлять коммерческий автосалон 1950 год основывать грузовик Chevrolet Advance Design COE время который время становиться относительно популярный соединенный штат автомобиль запускать производство время намереваться конкурировать аналогичный грузовик Leyland Comet ERF KV который также выходить рынок время хотя S Type иметь двигатель Chevrolet который иметь больший мощность оба поэтому популярный рынок из-за высокий выходной мощность надежность автомобиль выбирать различный служба также использоваться армия также экспортироваться многий страна 1959 год производить 90 000 грузовик пока смена приходить современный грузовик Bedford TK который популярный предшественник модификация Bedford RL военный версия Bedford SRHZ пожарный машина база шасси автомобиль внешний ссылка The New Big Bedfords advertisement A Show to Remember Lot 307 1955 Bedford S Type Flatbed Lorry BEDFORD S Bedford S Type Truck Vehicle\\n',\n",
              " 'автомобиль бомба автомобильный бомба англ Car bomb разновидность самодельный взрывной устройство представлять заминировать автомобиль мочь наполнять взрывчатка либо взрывной устройство присоединять автомобиль какой-либо образ это следовать различать случай цель являться убийство использовать автомобиль случай цель являться поражение человек строение находиться вне автомобиль второй случай зависимость план операция подрыв автомобиль водитель мочь присутствовать возможность покидать машина припарковывать отсутствовать должный находиться руль осуществлять подрыв автомобиль бомба предназначать уничтожение человек попадать зона поражение разрушение здание любой собственность вследствие взрыв автомобиль становиться характерный почерк организованный преступный группировка партизанский воинский формирование некоторый случай метод мочь прибегать спецслужба автомобиль бомба мочь перевозить относительно большой количество взрывчатка привлекать подозрение являться собственно механизм доставка грузовик который взрываться оклахома сити 3200 кг взрывчатый вещество теоретически любой действие мочь использовать триггер активация бомба открытие дверь автомобиль запуск двигатель нажатие педаль газ тормоз автомобиль мочь подорвать также помощь дистанционный детонатор срабатывание таймер синоним автомобиль бомба иной транспортный средство трактор убийство нанесение увечье весь человек находиться рядом машина разрушение находиться рядом здание зона боевой действие ближний восток также применяться термин шахид мобиль неологизм появляться современный русский язык джихад мобиль джихад мобиль являться неофициальный название среда российский военнослужащий весь вид гражданский транспортный средство колесный гусеничный который переоборудовать кустарный условие осуществление однократный суицидальный атака см шахид самоподрыв помощь мощный взрывной устройство официальный документооборот американский вооруженный сила данный вид техника принимать аббревиатура SVBIED англ Suicide Vehicle Borne Improvised Explosive Device история предшественник автомобиль бомба считаться голландский брандер XVI век который атаковать испанский корабль взрываться наносить огромный ущерб заставлять флот буквально сгорать дотла огромный количество подобный корабль использоваться голландец время осада антверпен принцип корабль закладывать основа автомобиль бомба поздно бомба закладываться карета 24 декабрь 1800 год группа заговорщик предпринимать неудачный попытка образ устранять наполеон бонапарт 1905 год упоминаться подобный метод борьба армянский националист против турецкий власть папкен сюня член организация дашнакцутюн планировать образ убивать турецкий султан абдул хамид II 1927 год происходить первый случай взрыв автомобиль здание школа бэт эндрю кехо подорвать бомба свой автомобиль предварительно организовывать пожар свой ферма взрывать бомба школа распространение автомобиль бомба получать особенно ближний восток еврейский военизировать организация леха использовать метод ведение партизанский война против британский власть палестинец вскоре палестинец перенимать метод принимать вооружение время гражданский война ливан достаточно часто минирование автомобиль последующий подрыв заниматься хезболла крупный теракт использование автомобиль бомба становиться взрыв казарма миротворец бейрут результат атака подобный джихад мобиль погибать 241 солдат корпус морской пехота сша 58 французский военный организатор теракт оставаться неизвестный хотя ответственность заявлять шиитский свободный исламский революционный движение время война ливан совершать 3641 подрыв автомобиль наш день подобный джихад мобиль становиться часто часто применяться террорист смертник сторона ирландский республиканский армия временный крыло также брезговать подобный метод ведение война время конфликт северный ирландия повстанец ира нередко минировать легковой грузовой автомобиль принадлежать британский военный ольстерский лоялист оценка начальник штаб временной ира шон макстивен автомобильный бомба полезный тактический точка зрение заставлять стягивать войско спецслужба определенный район оставлять слабый место дальнейший атака стратегический точка зрение наносить ущерб экономика великобритания нарушать возможность управление регион наносить моральный ущерб сторонник британский власть время второй чеченский война зафиксировать применение взрывной устройство автомобиль управление смертник применение данный тактика отмечать время американский интервенция ирак особенно 2005 год время выборы целенаправленный выявление уничтожение производственный мощность заметно снижаться опыт иракский война осмыслять остальной мир приводить рост применение техника особенность страна африка применение мощность взрыв зависеть количество взрывчатка автомобиль спрятать достаточно большой количество также усиливаться счет осколок шрапнель разлетаться вокруг наносить ущерб человек здание наличие бензин бензобак вследствие это заминировать автомобиль мочь применяться различный ситуация взрывной устройство мочь устанавливать любой часть автомобиль первый взрывной устройство устанавливаться срабатывать поворот ключ зажигание запуск двигатель однако метод слишком сложный технически данные расследование взрыв последний год большинство случай бомба крепиться магнит днище автомобиль водительский пассажирский место внутри брызговик детонатор мочь срабатывать открытие дверь нажатие педаль газ тормоз бомба который крепиться днище автомобиль использоваться принцип наклоняться запал западать небольшой стеклянный пластиковый трубка внешне неотличимый ртутный выключатель конец западать соединять ртуть второй открывать подсоединять конец разомкнутый цепь электрический цепь возгорание западать сдвигать дернуть ртуть подниматься верхний часть трубка замыкать цепь поскольку автомобиль двигаться идеально ровный поверхность постоянно вынужденный подниматься опускаться образ замыкаться цепь приводиться действие бомба устанавливать взрывной устройство мочь использовать специальный таймер внедрять цепь замыкаться прошествие определенный время следовательно устанавливать бомба человек иметь шанс успевать отходить безопасный место приводить действие рано время джихад мобиль джихад мобиль это неофициальный название среда российский военнослужащий весь вид гражданский транспортный средство колесный гусеничный который переоборудовать кустарный условие осуществление однократный суицидальный атака см шахид самоподрыв помощь мощный взрывной устройство официальный документооборот американский вооруженный сила данный вид техника принимать аббревиатура SVBIED англ Suicide Vehicle Borne Improvised Explosive Device суть явление правило основа джихад мобиль становиться колесный транспортный средство гражданский назначение который оснащаться взрывной устройство средство инициирование качество таковой мочь выбирать угодно начинать мотороллер который багажник закладывать противотанковый мина заканчивать карьерный самосвал кузов полный взрывчатый вещество встречаться джихад мобиль база трофейный машина MRAP гусеничный техника например боевой машина пехота нередко конструкция джихад мобиль цель повышение шанс достигать свой цель усиливаться импровизированный лист броня оснащаться противокумулятивный решетчатый экран противопульный колесо т п эпизодический задействование террорист взрывной устройство автомобиль управление смертник практиковаться время второй чеченский война северный кавказ гораздо масштабный применение джихад мобиль террористический организация аль-каида отмечать ход американский интервенция ирак однако целенаправленный выявление уничтожение производственный мощность оно заметно пойти убыль время весь остальное мир зафиксировать быстрый рост использование вид техника причем особенно стремительно набирать сила страна африка оценка специалист мнение российский военный эксперт мураховский грамотный задействование джихад мобиль условие ограниченный видимость плотный застройка складка рельеф т п мочь сделать очень опасный оружие целый ряд причина во-первых нести подрывной заряд преднамеренно закладываться избыток мощность который хватать уничтожение любой бронетехника во-вторых основа джихад мобиль часто становиться скоростной легковой машина пикап способный быстро сближаться объект атака в-третьих водитель машина заранее знать свой обреченность смерть становиться отворачивать обстрел нередко особо подчеркиваться серьезность психологический эффект который оказывать неприятель использование джихад мобиль всякий военнослужащий обладать столь сильный воля сохранять спокойствие видеть приближение самоходный адский машина который управлять рваться смерть фанатик американский специалист признавать оперативный сценарий боевой действие исламский государство джихад мобиль отводить весьма важный роль считаться тактический ниша аналогичный назначение управляемый ракетный оружие лишь разница весь высокотехнологический начинка заменять недорогой расходный материал вид человек смертник боец курдский ополчение пешмерг отмечать тактика применение джихад мобиль постоянно эволюционировать например время битва мосул 2016 2017 использовать против курд машина атака иметь тенденция постепенно возрастать размер кульминация тенденция становиться попытка джихадист атаковать курдский подразделение огромный бронированный мусоровоз наполнять самодельный взрывчатка причем машина столь защищать это медленный неповоротливый боец пешмерг просто перенести свой активность район недоступный колесный транспорт менее отмечаться попытка исламский государство встраивать атака джихад мобиль система ведение традиционный боевой действие пока признавать успешный например нередко игиловец бросать джихад мобиль бой какой-либо попытка воспользоваться результат самоподрыв указывать нехватка иерархия управление грамотный командный состав средний звено контрмера защита уязвимый объект заминировать машина использоваться дорожный заграждение блокпост стена джерси бетонный блок металлический барьер здание проектироваться устаивать результат мощный взрыв вводиться иной мера безопасность запрещать автомобиль подъезжать определенный район 1991 год лондон даунинг стрит 10 мочь попадать посторонний мера принимать связь возрастать активность ира также вашингтон часть пенсильвания авеню находиться белый дом закрывать многий вид транспорт примечание литература Mike Davis Buda s Wagon A Brief History of the Car Bomb Verso New York 2007 ссылка шахид мобиль изменять характер вооруженный конфликт РГ 11.07 2019 Video of a detected car bomb VBIED going off вебархив A history of the car bomb архивный копия 5 июнь 2016 Wayback Machine Asia Times Explosive reading review by Daniel Swift for the Financial Times Car Bomb manyriverfilms award winning documentary history of the car bomb manyriversfilms co uk\\n',\n",
              " 'городской автомобиль сверхкомпактный маневренный сравнительно небыстрый автомобиль предназначать преимущественно езда город городской автомобиль A класс сегмент супермини правило являться четырехместный иметь длина четыре метр двигатель практически располагать спереди приводить движение передний колесо хотя встречаться заднемоторный конструкция Smart Tata Nano перспективный Volkswagen City Master скорость правило ограничивать 150 км ч менее из-за малый масса сравнительно большой высота небольшой ширина автомобиль плохо приспособлять движение междугородный трасса высокий скорость проходимость также являться определять фактор позволять уменьшать размер колесо разумный минимум пожертвовать клиренс счет это получать просторный внутренний пространство счет уменьшение колесный ниша автомобиль начинать продаваться европа c 1960 х год спад бум мотоколяска кабиненроллер прочий подобный конструкция полуофициальный обозначение city car автомобиль принятый например великобритания городской автомобиль выпускаться большинство крупный производитель особенность городской автомобиль городской автомобиль предъявляться ряд требование возможность парковка малый пространство обеспечиваться малый длина автомобиль малый радиус поворот необходимо маневрирование разворот улица припарковывать автомобиль пробка малый ширина также желательный парковка маневрирование низкий расход топливо небольшой скорость частый разгон остановка городской цикл городской автомобиль предназначать ежедневный использование надежность безопасность тормозной рулевой система необходимый сложный интенсивный городской движение низкий шумность удовлетворять требование лишь пожертвовать некоторый столь важный город качество поэтому городской автомобиль характерный низкий клиренс цель обеспечивать устойчивость автомобиль размер низкий проходимость вызывать низкий клиренс невысокий максимальный скорость город скорость ограничивать правило дорожный движение некоторый автомобиль попадать свой длина класс являться city car британский классификация менее называть городской например запорожец обладать высокий клиренс проходимость шумность расход топливо история предшественник городской автомобиль американский четырехместный Crosley появляться вскоре второй мировой война 1950 х год появляться несколько марка автомобиль который городской мочь называть длина концерн фиат 1957 год выпускать короткий Fiat 500 Fiat 126 иметь длина около метр соответственно четыре посадочный место Fiat SEAT Panda выпускать 1980 год 3 4 м длина четко предназначать езда город удлиняться заметно время свой развитие представлять 1991 год Fiat Cinquecento также полноценный городской автомобиль иметь длина 3 2 метр четыре посадочный место конец 1970 х начало 1980 х год несколько удачный модель город появляться япония особенно удачный оказываться автомобиль Daihatsu Cuore длина 3 16 м 1988 год ссср начинаться производство автомобиль ваз 1111 око 1993 появляться вскоре становиться бестселлер Renault Twingo 3 43 м предлагать время невиданный автомобиль размер объем салон счет увеличение высота посадка сильный смещение пассажирский салон вперед фактически уровень полукапотный компоновка 1996 год представлять Ford Ka оригинальный геометрический дизайн закладывать основа впоследствии получать название стиль New Edge 1998 год появляться Daewoo Matiz отличаться дешевизна непривычный дизайн джорджетто джуджаро представлять рестайлинг Daewoo Tico свой очередь основывать старый модель Suzuki Alto сегодня это наиболее распространять автомобиль свой класс россия наряду ока одновременно появляться Opel Agila 2000 Volkswagen Lupo 1999 галерея японский микролитражный автомобиль класс городской автомобиль настоящий время 2000 х год городской автомобиль становиться набирать популярность западный европа япония южный корея это вызывать рост цена нефть большинство семья становиться несколько автомобиль приводить нехватка парковочный место сша дефицит территория наблюдаться бензин дешево также бывший республика ссср характерный сравнительно низкий уровень жизнь тяготение покупатель универсальность сравнительный престижность автомобиль также зачастую тяжелый дорожный условие особенность зима популярность городской автомобиль оказываться относительно небольшой городской автомобиль появляться XXI век отмечать следующий Daihatsu Mira L700 2002 Fiat Panda 2003 Kia Picanto 2004 Citroën C1 2005 Peugeot 107 2005 Toyota Aygo 2005 сеаза 11116 2006 Renault Twingo 2006 Fiat 500 2007 Ford Ka 2006 Mitsubishi i 2006 Hyundai i10 2007 Volkswagen up 2011 Chevrolet Spark 2012 см также Tata Nano сверхмалый городской автомобиль индийский компания Tata Motors заявлять стоимость около 2500 Smart смарт марка автомобиль особо малый класс выпускать одноименный компания принадлежать международный автопромышленный концерн Daimler AG мотоколяска классификация автомобиль классификация легковой автомобиль размер\\n']"
            ]
          },
          "execution_count": 46,
          "metadata": {},
          "output_type": "execute_result"
        }
      ],
      "source": [
        "cos_most_similar(1)"
      ]
    },
    {
      "cell_type": "markdown",
      "metadata": {},
      "source": [
        "the one most similar to 'Deus ex Machina' is some math (probably Fourier)"
      ]
    },
    {
      "cell_type": "code",
      "execution_count": 47,
      "metadata": {
        "jupyter": {
          "outputs_hidden": false,
          "source_hidden": false
        },
        "nteract": {
          "transient": {
            "deleting": false
          }
        },
        "vscode": {
          "languageId": "python"
        }
      },
      "outputs": [
        {
          "data": {
            "text/plain": [
              "['уравнение пятый степень называть уравнение вид a x 5 b x 4 c x 3 d x 2 e x f 0 displaystyle ax 5 bx 4 cx 3 dx 2 ex f 0 теорема виета уравнение пятый степень корень уравнение пятый степень x 1 x 2 x 3 x 4 x 5 displaystyle x 1 x 2 x 3 x 4 x 5 связанный коэффициент a b c d e f displaystyle a b c d e f следующий образ x 1 x 2 x 3 x 4 x 5 b a displaystyle x 1 x 2 x 3 x 4 x 5 frac b a x 1 x 2 x 1 x 3 x 1 x 4 x 1 x 5 x 2 x 3 x 2 x 4 x 2 x 5 x 3 x 4 x 3 x 5 x 4 x 5 c a displaystyle x 1 x 2 x 1 x 3 x 1 x 4 x 1 x 5 x 2 x 3 x 2 x 4 x 2 x 5 x 3 x 4 x 3 x 5 x 4 x 5 frac c a x 1 x 2 x 3 x 1 x 2 x 4 x 1 x 2 x 5 x 1 x 3 x 4 x 1 x 3 x 5 x 1 x 4 x 5 x 2 x 3 x 4 x 2 x 3 x 5 x 2 x 4 x 5 x 3 x 4 x 5 d a displaystyle x 1 x 2 x 3 x 1 x 2 x 4 x 1 x 2 x 5 x 1 x 3 x 4 x 1 x 3 x 5 x 1 x 4 x 5 x 2 x 3 x 4 x 2 x 3 x 5 x 2 x 4 x 5 x 3 x 4 x 5 frac d a x 1 x 2 x 3 x 4 x 1 x 2 x 3 x 5 x 1 x 2 x 4 x 5 x 1 x 3 x 4 x 5 x 2 x 3 x 4 x 5 e a displaystyle x 1 x 2 x 3 x 4 x 1 x 2 x 3 x 5 x 1 x 2 x 4 x 5 x 1 x 3 x 4 x 5 x 2 x 3 x 4 x 5 frac e a x 1 x 2 x 3 x 4 x 5 f a displaystyle x 1 x 2 x 3 x 4 x 5 frac f a решение точный формула решение уравнение пятый степень существовать a 1 f 0 displaystyle a 1 f 0 уравнение иметь вид x 5 b x 4 c x 3 d x 2 e x 0 displaystyle x 5 bx 4 cx 3 dx 2 ex 0 x displaystyle x выносить скобка см сводный уравнение x x 4 b x 3 c x 2 d x e 0 displaystyle x x 4 bx 3 cx 2 dx e 0 корень равный ноль скобка уравнение четвертый степень b d 0 displaystyle b d 0 уравнение биквадратный корень равный ноль остальной корень искать формула c c 2 4 e 2 textstyle pm sqrt c pm frac sqrt c 2 4e 2 b e 0 displaystyle b e 0 уравнение скобка иметь вид x 4 c x 2 d x 0 displaystyle x 4 cx 2 dx 0 выносить скобка x x 3 c x d 0 displaystyle x x 3 cx d 0 корень ноль остальной корень искать формула кардано пример решать уравнение x 5 5 x 0 displaystyle x 5 5x 0 решение выносить x displaystyle x скобка x x 4 5 0 displaystyle x x 4 5 0 раскладывать x 4 5 displaystyle x 4 5 множитель x x 5 4 2 5 4 2 i x 5 4 2 5 4 2 i x 5 4 2 5 4 2 i x 5 4 2 5 4 2 i 0 displaystyle x x frac sqrt 4 5 sqrt 2 frac sqrt 4 5 sqrt 2 i x frac sqrt 4 5 sqrt 2 frac sqrt 4 5 sqrt 2 i x frac sqrt 4 5 sqrt 2 frac sqrt 4 5 sqrt 2 i x frac sqrt 4 5 sqrt 2 frac sqrt 4 5 sqrt 2 i 0 уравнение иметь пять корень x 1 0 displaystyle x 1 0 x 2 5 4 2 5 4 2 i displaystyle x 2 frac sqrt 4 5 sqrt 2 frac sqrt 4 5 sqrt 2 i x 3 5 4 2 5 4 2 i displaystyle x 3 frac sqrt 4 5 sqrt 2 frac sqrt 4 5 sqrt 2 i x 4 5 4 2 5 4 2 i displaystyle x 4 frac sqrt 4 5 sqrt 2 frac sqrt 4 5 sqrt 2 i x 5 5 4 2 5 4 2 i displaystyle x 5 frac sqrt 4 5 sqrt 2 frac sqrt 4 5 sqrt 2 i ссылка решение уравнение пятый степень решение уравнение высокий степень\\n',\n",
              " 'асимптотический анализ метод описание предельный поведение функция например функция f n n 2 3 n displaystyle f n n 2 3n стремление n displaystyle n бесконечность слагаемое 3 n displaystyle 3n становиться пренебрежимо малый сравнение n 2 displaystyle n 2 поэтому функция f n displaystyle f n говорить асимптотически эквивалентный n 2 displaystyle n 2 n displaystyle n to infty зачастую также записывать f n n 2 displaystyle f n sim n 2 пример важный асимптотический результат являться теорема распределение простой число пусть π x displaystyle pi x обозначать функция распределение простой число π x displaystyle pi x равный количество простой число который мало либо равный x displaystyle x теорема мочь сформулировать π x x log x displaystyle pi x sim frac x log x асимптотический равенство пусть f x displaystyle f x g x displaystyle g x некоторый функция бинарный отношение displaystyle sim определяться образ f x g x x displaystyle f x sim g x quad text x to infty lim x f x g x 1 displaystyle lim x to infty frac f x g x 1 функция f displaystyle f g displaystyle g это называться асимптотически эквивалентный displaystyle sim являться отношение эквивалентность функция x displaystyle x область определение f displaystyle f g displaystyle g это мочь любой множество который иметь смысл понятие предел вещественный число комплексный число натуральный т д обозначение также использоваться предельный ограничение x displaystyle x x 0 displaystyle x to 0 конкретный предел обычно указывать понятный контекст определение высокий распространять литература однако оно терять смысл g x displaystyle g x принимать значение 0 displaystyle 0 бесконечный число поэтому некоторый автор использовать альтернативный определение термин O нотация f x g x o g x displaystyle f x g x in o g x данный определение эквивалентный приводить выше g x displaystyle g x отлично ноль некоторый окрестность предельный точка свойство f g displaystyle f sim g a b displaystyle a sim b некоторый естественный ограничение верно следующий f r g r displaystyle f r sim g r любой вещественный r displaystyle r log f log g displaystyle log f sim log g f a g b displaystyle f times a sim g times b f a g b displaystyle f a sim g b указанный свойство позволять свободно менять асимптотически эквивалентный функция друг друг некоторый алгебраический выражение пример асимптотический формула формула стирлинг факториал n 2 π n n e n displaystyle n sim sqrt 2 pi n left frac n e right n количество способ разбивать натуральный число n displaystyle n неупорядоченный сумма натуральный число p n 1 4 n 3 e π 2 n 3 displaystyle p n sim frac 1 4n sqrt 3 e pi sqrt frac 2n 3 функция эйри A i x displaystyle Ai x решение дифференциальный уравнение y x y 0 displaystyle y xy 0 Ai x e 2 3 x 3 2 2 π x 1 4 displaystyle operatorname Ai x sim frac e frac 2 3 x frac 3 2 2 sqrt pi x 1 4 функция ганкель H α 1 z 2 π z e i z 2 π α π 4 H α 2 z 2 π z e i z 2 π α π 4 displaystyle begin aligned H alpha 1 z sim sqrt frac 2 pi z e i left z frac 2 pi alpha pi 4 right H alpha 2 z sim sqrt frac 2 pi z e i left z frac 2 pi alpha pi 4 right end aligned асимптотический разложение асимптотический разложение функция f x displaystyle f x называть выражение функция вид ряд чей частичный сумма мочь сходиться это любой частичный сумма давать правильный асимптотический оценка f displaystyle f образ каждый следующий элемент асимптотический разложение давать точный описание порядок рост f displaystyle f слово f g 1 g 2 g 3 displaystyle f g 1 g 2 g 3 dots асимптотический разложение f displaystyle f f g 1 displaystyle f sim g 1 f g 1 g 2 displaystyle f g 1 sim g 2 общий случай f g 1 g k 1 g k displaystyle f g 1 cdots g k 1 sim g k любой k displaystyle k соответствие определение displaystyle sim это значить f g 1 g k o g k displaystyle f g 1 cdots g k o g k f g 1 g k displaystyle f g 1 cdots g k расти асимптотически значительно медленно g k displaystyle g k асимптотический разложение сходиться любой аргумент x displaystyle x находиться некоторый частичный сумма который хороший образ приближать функция точка дальнейший добавление слагать лишь уменьшать точность правило число слагаемое оптимальный сумма увеличиваться приближение предельный точка пример асимптотический разложение гамма функция e x x x 2 π x Γ x 1 1 1 12 x 1 288 x 2 139 51840 x 3 x displaystyle frac e x x x sqrt 2 pi x Gamma x 1 sim 1+ frac 1 12x frac 1 288x 2 frac 139 51840x 3 cdots x to infty интегральный экспонент x e x E 1 x n 0 1 n n x n x displaystyle xe x E 1 x sim sum n 0 infty frac 1 n n x n x to infty функция ошибка π x e x 2 e r f c x 1 n 1 1 n 2 n 1 n 2 x 2 n x displaystyle sqrt pi xe x 2 rm erfc x sim 1+ sum n 1 infty 1 n frac 2n 1 n 2x 2 n x to infty 2n 1 двойной факториал применение асимптотический анализ использоваться прикладной математика построение численный метод решение уравнение математический статистика теория вероятность определение предельный свойство случайный величина статистический оценка информатика анализ алгоритм время работа статистический физика анализ поведение физический система анализ катастрофа определение причина катастрофа моделирование множество катастрофа место асимптотический анализ являться ключевой инструмент изучение дифференциальный уравнение возникать математический моделирование явление реальный мир правило применение асимптотический анализ направлять исследование зависимость модель некоторый безразмерный параметр который предполагаться пренебрежимо малый масштаб решать задача асимптотический разложение правило возникать приближенный вычисление некоторый интеграл метод лаплас метод перевал распределение вероятность ряд эджворт пример расходиться асимптотический разложение являться граф фейнман квантовый теория поле см также асимптота асимптотический плотность теория число O большой o малый асимптотически достоверный событие примечание литература федорюк м асимптотика интеграл ряд м наука 1987 544 справочная математический библиотека олвер ф введение асимптотический метод специальный функция м наука 1978 386 Balser W 1994 From Divergent Power Series To Analytic Functions Springer Verlag https books google com books id V 17CwAAQBAJ printsec frontcover v onepage q f false de Bruijn N G 1981 Asymptotic Methods in Analysis Dover Publications https books google com books id Oqj9AgAAQBAJ printsec frontcover Estrada R Kanwal R P 2002 A Distributional Approach to Asymptotics Birkhäuser https books google com books id X3cECAAAQBAJ printsec frontcover v onepage q f false Miller P D 2006 Applied Asymptotic Analysis American Mathematical Society https books google com books id KQvqBwAAQBAJ printsec frontcover v onepage q f false Murray J D 1984 Asymptotic Analysis Springer https books google com books id PC3rBwAAQBAJ printsec frontcover v onepage q f false Paris R B Kaminsky D 2001 Asymptotics and Mellin Barnes Integrals Cambridge University Press https www researchgate net profile Richard Paris publication 39064661 Asymptotics and Mellin Barnes Integrals links 00b495295c15197336000000 Asymptotics and Mellin Barnes Integrals pdf ссылка Asymptotic Analysis home page of the journal which is published by IOS Press A paper on time series analysis using asymptotic distribution\\n',\n",
              " 'агнотология агнатология ἄγνωσις agnōsis незнание ἄγνωτος неизвестность λογία логий отрасль наука исследовать случай намеренный распространение заблуждение пример мочь являться публикация научный исследование базироваться неточный ошибочный данные агнотология также сосредотачиваться почему различный форма знание получать распространение игнорироваться откладываться долгий ящик пример исследование тектоника запрещать цензура сша крайний мера десятилетие некоторый факт засекречивать военный информация относиться подводный вооружение история происхождение неологизм вводить обращение роберт н проктор профессор стэнфордский университет специализироваться история наука технология термин агнотология впервые упоминать книга проктор война против рак политик формировать наш знание незнание рак опубликовывать 1995 год историк философ наука трактовать невежество бесконечный вакуум который постепенно заполняться знание однажды сказать иоганн кеплер мать умирающий ради рождение наука невежество простой оно иметь изменчивый ясный география являться превосходный индикатор политика отношение знание необходимый политический агнотология который дополнять наш политический эпистемология проктор использовать термин описывать свой исследование наполовину шутливый интервью 2001 год минерал агат увязывать отсутствие новый геологический знание агат описание теофраст трехсотый год наш эра интенсивный изучение минерал алмаз асбест гранит уголь который иметь большой ценность объявлять агат жертва научный безразличие первый случай создание общественный невежество пример главный пример намеренный распространение заблуждение описывать проктор являться производство табачный промышленность исследование призывать посеять общественность сомнение связь риск различный заболевание курение табак прикрываться научный лозунг промышленность публиковать множество исследование вред кроме табак увеличивать неуверенность общественность пример принуждение незнание включать замалчивание средство массовый информация корпоративный секретность государственный цензура уничтожение документ невнимание забывчивость см также эффект даннинг крюгер климатический скептицизм когнитивный диссонанс майевтика FUD техника дезинформация страх фальсификация история обскурантизм примечание литература Michaels D Doubt is Their Product How industry s assault on science threatens your health англ London Oxford University Press 2008 ISBN 978 0 19 530067 3 Mooney C The Republican War on Science англ Basic Books 2005 ISBN 0 465 04676 2 Proctor R N Cancer Wars How politics shapes what we know and don t know about cancer англ New York Basic Books 1995 ISBN 978 0 465 00859 9 Agnotology The making and unmaking of ignorance Stanford University Press место Palo Alto CA год 2008 isbn 978 0 8047 5901 4 язык und ответственный Proctor Robert N Schiebinger Londa Smithson M Toward a social theory of ignorance англ Journal for the Theory of Social Behaviour journal 1985 Vol 20 no 4 P 323 346 doi 10.1111 j 1468 5914.1985 tb00049 x Georgina KenyonThe man who studies the spread of ignorance BBC 6 January 2016 Jennifer L Croissant Agnotology Ignorance and Absence or Towards a Sociology of Things That Aren t There англ Social Epistemology 2014 01 02 Vol 28 iss 1 P 4 25 ISSN 1464 5297 0269 1728 1464 5297 doi 10.1080 02691728.2013 862880\\n']"
            ]
          },
          "execution_count": 47,
          "metadata": {},
          "output_type": "execute_result"
        }
      ],
      "source": [
        "cos_most_similar(37)"
      ]
    },
    {
      "cell_type": "markdown",
      "metadata": {},
      "source": [
        "#### cluster map for cosine similarity\n",
        "articles are actually clustering together (cf. the indices on the right), cars, sociology, and philosophy doing the best job. linguistics seem distributed, contradicting the PCA visualization."
      ]
    },
    {
      "cell_type": "code",
      "execution_count": 49,
      "metadata": {
        "jupyter": {
          "outputs_hidden": false,
          "source_hidden": false
        },
        "nteract": {
          "transient": {
            "deleting": false
          }
        },
        "vscode": {
          "languageId": "python"
        }
      },
      "outputs": [
        {
          "data": {
            "image/png": "[encoded data removed]",
            "text/plain": [
              "<Figure size 1000x1000 with 4 Axes>"
            ]
          },
          "metadata": {},
          "output_type": "display_data"
        }
      ],
      "source": [
        "from seaborn import clustermap\n",
        "cm = clustermap(cos_sim, col_cluster=False)"
      ]
    }
  ],
  "metadata": {
    "kernelspec": {
      "display_name": "Python 3 (ipykernel)",
      "language": "python",
      "name": "python3"
    }
  },
  "nbformat": 4,
  "nbformat_minor": 0
}
